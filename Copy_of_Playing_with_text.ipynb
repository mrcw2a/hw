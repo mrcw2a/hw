{
  "nbformat": 4,
  "nbformat_minor": 0,
  "metadata": {
    "colab": {
      "name": "Copy of Playing_with_text.ipynb",
      "provenance": [],
      "authorship_tag": "ABX9TyMHbyOi+7CfSXGdUmMTug4b",
      "include_colab_link": true
    },
    "kernelspec": {
      "name": "python3",
      "display_name": "Python 3"
    }
  },
  "cells": [
    {
      "cell_type": "markdown",
      "metadata": {
        "id": "view-in-github",
        "colab_type": "text"
      },
      "source": [
        "<a href=\"https://colab.research.google.com/github/mrcw2a/hw/blob/master/Copy_of_Playing_with_text.ipynb\" target=\"_parent\"><img src=\"https://colab.research.google.com/assets/colab-badge.svg\" alt=\"Open In Colab\"/></a>"
      ]
    },
    {
      "cell_type": "code",
      "metadata": {
        "id": "HyHs8dqWLivN",
        "outputId": "dd46d3ed-6bd0-4232-bbde-0661cbccb814",
        "colab": {
          "base_uri": "https://localhost:8080/",
          "height": 128
        }
      },
      "source": [
        "# load text\n",
        "filename = 'C:\\Users\\mark7\\Desktop\\Library\\Ebooks\\Machine Learning\\metamorphosis_clean.txt'\n",
        "file = open(filename, 'rt')\n",
        "text = file.read()\n",
        "file.close()"
      ],
      "execution_count": null,
      "outputs": [
        {
          "output_type": "error",
          "ename": "SyntaxError",
          "evalue": "ignored",
          "traceback": [
            "\u001b[0;36m  File \u001b[0;32m\"<ipython-input-2-fc89e34a7974>\"\u001b[0;36m, line \u001b[0;32m2\u001b[0m\n\u001b[0;31m    filename = 'C:\\Users\\mark7\\Desktop\\Library\\Ebooks\\Machine Learning\\metamorphosis_clean.txt'\u001b[0m\n\u001b[0m              ^\u001b[0m\n\u001b[0;31mSyntaxError\u001b[0m\u001b[0;31m:\u001b[0m (unicode error) 'unicodeescape' codec can't decode bytes in position 2-3: truncated \\UXXXXXXXX escape\n"
          ]
        }
      ]
    }
  ]
}